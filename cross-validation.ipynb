{
 "cells": [
  {
   "cell_type": "code",
   "execution_count": 1,
   "metadata": {
    "collapsed": true
   },
   "outputs": [],
   "source": [
    "import knn\n",
    "import loadcifar10 as lc\n",
    "import numpy as np\n",
    "import time\n",
    "import matplotlib.pyplot as plt"
   ]
  },
  {
   "cell_type": "code",
   "execution_count": 2,
   "metadata": {
    "collapsed": true
   },
   "outputs": [],
   "source": [
    "%matplotlib inline\n",
    "plt.rcParams['figure.figsize'] = (10.0, 8.0) # set default size of plots\n",
    "plt.rcParams['image.interpolation'] = 'nearest'\n",
    "plt.rcParams['image.cmap'] = 'gray'\n",
    "\n",
    "# Some more magic so that the notebook will reload external python modules;\n",
    "# see http://stackoverflow.com/questions/1907993/autoreload-of-modules-in-ipython\n",
    "%load_ext autoreload\n",
    "%autoreload 2"
   ]
  },
  {
   "cell_type": "code",
   "execution_count": 3,
   "metadata": {
    "collapsed": true
   },
   "outputs": [],
   "source": [
    "def cross_validate(root, l, k, results):\n",
    "    accuracy = np.empty([5], dtype=np.float32)\n",
    "    for i in range(1, 6):\n",
    "        time_start = time.time()\n",
    "        td, tl, vd, vl = lc.load_cifar_cross_validation(root, i)\n",
    "        knn_o = knn.KNN()\n",
    "        knn_o.train(td, tl)\n",
    "        predictions = knn_o.predict(vd, k, l)\n",
    "        num_correct = np.sum(predictions == vl)\n",
    "        accuracy[i - 1] = num_correct / 10000\n",
    "        print(time.time() - time_start)\n",
    "    results[k] = accuracy"
   ]
  },
  {
   "cell_type": "code",
   "execution_count": 4,
   "metadata": {
    "collapsed": true
   },
   "outputs": [],
   "source": [
    "def plot_data(l, res):\n",
    "    for k, v in sorted(res.items()):\n",
    "        plt.scatter([k] * len(v), v)\n",
    "    # Plot the trend line with error bars that correspond to standard deviation\n",
    "    mean = np.array([np.mean(v) for k, v in sorted(res.items())])\n",
    "    std = np.array([np.std(v) for k, v in sorted(res.items())])\n",
    "    plt.errorbar([k for k, v in sorted(res.items())], mean, yerr=std)\n",
    "    plt.title('Cross-validation on %s and k' % (l, ))\n",
    "    plt.xlabel('k')\n",
    "    plt.ylabel('Cross-validation accuracy')\n",
    "    plt.show()"
   ]
  },
  {
   "cell_type": "code",
   "execution_count": 5,
   "metadata": {
    "collapsed": true
   },
   "outputs": [],
   "source": [
    "def test_cross_validate(l):\n",
    "    ks = [1, 3, 5, 7, 9, 10, 13, 17, 20, 50, 75, 100]\n",
    "    root = 'cifar-10-batches-py'\n",
    "    results = dict()\n",
    "    for k in ks:\n",
    "        cross_validate(root, l, k, results)\n",
    "    plot_data(l, results)"
   ]
  },
  {
   "cell_type": "code",
   "execution_count": null,
   "metadata": {
    "collapsed": false
   },
   "outputs": [
    {
     "name": "stdout",
     "output_type": "stream",
     "text": [
      "27.322786569595337\n",
      "31.029844284057617\n",
      "28.62177872657776\n",
      "27.434898853302002\n",
      "26.20403528213501\n",
      "27.966044664382935\n",
      "27.88405418395996\n",
      "28.154189109802246\n",
      "28.205742597579956\n",
      "28.285200357437134\n",
      "28.022700548171997\n",
      "27.68132996559143\n",
      "27.955408096313477\n",
      "28.15657687187195\n",
      "28.06997799873352\n",
      "28.565490245819092\n",
      "27.725121021270752\n",
      "28.251500368118286\n",
      "28.098077297210693\n",
      "28.396265506744385\n",
      "27.910519123077393\n",
      "27.663290977478027\n",
      "28.11322832107544\n",
      "28.001725673675537\n",
      "27.817487001419067\n",
      "45.74618864059448\n",
      "28.859782457351685\n",
      "37.672667026519775\n",
      "36.98333764076233\n",
      "34.8103187084198\n",
      "35.75580072402954\n",
      "35.61362338066101\n",
      "35.91050744056702\n",
      "31.116628885269165\n",
      "37.06554937362671\n",
      "28.210667610168457\n",
      "27.65283513069153\n",
      "27.97837209701538\n",
      "28.450807809829712\n",
      "28.16606116294861\n",
      "27.910704851150513\n",
      "27.755975484848022\n",
      "28.62468457221985\n",
      "28.06044101715088\n",
      "27.970404386520386\n",
      "28.971399068832397\n",
      "28.393706798553467\n",
      "28.36899971961975\n",
      "34.496418476104736\n",
      "35.309585094451904\n",
      "27.978708744049072\n",
      "27.669585943222046\n",
      "29.157981157302856\n",
      "28.959845304489136\n",
      "45.988001585006714\n",
      "28.633663654327393\n",
      "28.565174102783203\n",
      "31.52064299583435\n",
      "43.826478719711304\n",
      "40.665722608566284\n"
     ]
    },
    {
     "data": {
      "image/png": "[encoded data removed]",
      "text/plain": [
       "<matplotlib.figure.Figure at 0x7f2ab278aa58>"
      ]
     },
     "metadata": {},
     "output_type": "display_data"
    },
    {
     "name": "stdout",
     "output_type": "stream",
     "text": [
      "1007.6753840446472\n"
     ]
    }
   ],
   "source": [
    "test_cross_validate('L2')\n",
    "test_cross_validate('L1')"
   ]
  },
  {
   "cell_type": "code",
   "execution_count": null,
   "metadata": {
    "collapsed": true
   },
   "outputs": [],
   "source": []
  }
 ],
 "metadata": {
  "kernelspec": {
   "display_name": "Python 3",
   "language": "python",
   "name": "python3"
  },
  "language_info": {
   "codemirror_mode": {
    "name": "ipython",
    "version": 3
   },
   "file_extension": ".py",
   "mimetype": "text/x-python",
   "name": "python",
   "nbconvert_exporter": "python",
   "pygments_lexer": "ipython3",
   "version": "3.6.0"
  }
 },
 "nbformat": 4,
 "nbformat_minor": 2
}
